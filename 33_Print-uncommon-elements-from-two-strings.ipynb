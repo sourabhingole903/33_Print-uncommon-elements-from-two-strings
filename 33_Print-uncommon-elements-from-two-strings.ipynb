{
 "cells": [
  {
   "cell_type": "code",
   "execution_count": null,
   "id": "0e93190d",
   "metadata": {},
   "outputs": [],
   "source": [
    "def common(str1,str2):\n",
    "    ans = ''\n",
    "    for ch in str1:\n",
    "        if ch not in str2 and ch not in ans:\n",
    "            ans += ch\n",
    "    return ans\n",
    "    \n",
    "common('sourabh','rahul')"
   ]
  }
 ],
 "metadata": {
  "kernelspec": {
   "display_name": "Python 3",
   "language": "python",
   "name": "python3"
  },
  "language_info": {
   "codemirror_mode": {
    "name": "ipython",
    "version": 3
   },
   "file_extension": ".py",
   "mimetype": "text/x-python",
   "name": "python",
   "nbconvert_exporter": "python",
   "pygments_lexer": "ipython3",
   "version": "3.8.8"
  }
 },
 "nbformat": 4,
 "nbformat_minor": 5
}
